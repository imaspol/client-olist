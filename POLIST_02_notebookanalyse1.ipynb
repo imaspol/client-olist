{
 "cells": [
  {
   "cell_type": "markdown",
   "metadata": {},
   "source": [
    "#### Auteur: Irina Maslowski"
   ]
  },
  {
   "cell_type": "markdown",
   "metadata": {},
   "source": [
    "### Projet N° 4. Segmentez des clients d'un site e-commerce"
   ]
  },
  {
   "cell_type": "markdown",
   "metadata": {},
   "source": [
    "#### Données: [Brazilian E-Commerce Public Dataset by Olist. 100,000 Orders with product, customer and reviews info](https://www.kaggle.com/olistbr/brazilian-ecommerce)\n",
    "années: 2016 - 2018"
   ]
  },
  {
   "cell_type": "markdown",
   "metadata": {},
   "source": [
    "## Taches:\n",
    "1. créer les meilleures features pour les exploiter à partir de données dans notre disposition\n",
    "2. utiliserez des méthodes non supervisées pour regrouper ensemble des clients de profils similaires\n",
    "**Cahier des charges** :\n",
    "1. La segmentation proposée doit être exploitable et facile d’utilisation pour l’équipe marketing.\n",
    "2. Evaluez la fréquence à laquelle la segmentation doit être mise à jour, \n",
    "afin de pouvoir effectuer un devis de contrat de maintenance.\n",
    "3. Le code fourni doit respecter la convention PEP8, pour être utilisable par Olist."
   ]
  },
  {
   "cell_type": "code",
   "execution_count": 1,
   "metadata": {},
   "outputs": [],
   "source": [
    "import pandas as pd\n",
    "import numpy as np\n",
    "import matplotlib.pyplot as plt\n",
    "import seaborn as sns\n",
    "import scipy.stats as st\n",
    "# EXEMPLE sur http://www.python-simple.com/python-statsmodels/statsmodels-anova.php\n",
    "import statsmodels.formula.api\n",
    "import statsmodels.api"
   ]
  },
  {
   "cell_type": "code",
   "execution_count": 2,
   "metadata": {},
   "outputs": [],
   "source": [
    "import datetime as dt"
   ]
  },
  {
   "cell_type": "markdown",
   "metadata": {},
   "source": [
    "## Sommaire:\n",
    "* [Import des données](#first-bullet)\n",
    "* [Création de nouvelles variables](#new_var)\n",
    "    * [Temps depuis la commande](#delta_date_order)\n",
    "    * [Distance entre le client et le vendeur](#customer_seller_distance)\n",
    "    * [Changement de format pour datetime](#to_datetime)\n",
    "    * [Durée de livraison](#delivery_period)\n",
    "    * [Colonnes par type de status de la commande](#order_status)\n",
    "    * [La volume des produits](#product_volume)\n",
    "    * [Livraison à temps](#intime_delivery)\n",
    "* [Analyse](#analisys)"
   ]
  },
  {
   "cell_type": "markdown",
   "metadata": {},
   "source": [
    "# Import des données <a class=\"anchor\" id=\"first-bullet\"></a>"
   ]
  },
  {
   "cell_type": "code",
   "execution_count": 3,
   "metadata": {},
   "outputs": [
    {
     "data": {
      "text/html": [
       "<div>\n",
       "<style scoped>\n",
       "    .dataframe tbody tr th:only-of-type {\n",
       "        vertical-align: middle;\n",
       "    }\n",
       "\n",
       "    .dataframe tbody tr th {\n",
       "        vertical-align: top;\n",
       "    }\n",
       "\n",
       "    .dataframe thead th {\n",
       "        text-align: right;\n",
       "    }\n",
       "</style>\n",
       "<table border=\"1\" class=\"dataframe\">\n",
       "  <thead>\n",
       "    <tr style=\"text-align: right;\">\n",
       "      <th></th>\n",
       "      <th>order_id</th>\n",
       "      <th>customer_id</th>\n",
       "      <th>order_status</th>\n",
       "      <th>order_purchase_timestamp</th>\n",
       "      <th>order_approved_at</th>\n",
       "      <th>order_delivered_carrier_date</th>\n",
       "      <th>order_delivered_customer_date</th>\n",
       "      <th>order_estimated_delivery_date</th>\n",
       "      <th>customer_unique_id</th>\n",
       "      <th>customer_zip_code_prefix</th>\n",
       "      <th>...</th>\n",
       "      <th>product_category_name</th>\n",
       "      <th>payment_sequential</th>\n",
       "      <th>payment_type</th>\n",
       "      <th>payment_installments</th>\n",
       "      <th>payment_value</th>\n",
       "      <th>review_id</th>\n",
       "      <th>review_score</th>\n",
       "      <th>review_creation_date</th>\n",
       "      <th>review_answer_timestamp</th>\n",
       "      <th>contain_message</th>\n",
       "    </tr>\n",
       "  </thead>\n",
       "  <tbody>\n",
       "    <tr>\n",
       "      <th>0</th>\n",
       "      <td>e481f51cbdc54678b7cc49136f2d6af7</td>\n",
       "      <td>9ef432eb6251297304e76186b10a928d</td>\n",
       "      <td>delivered</td>\n",
       "      <td>2017-10-02 10:56:33</td>\n",
       "      <td>2017-10-02 11:07:15</td>\n",
       "      <td>2017-10-04 19:55:00</td>\n",
       "      <td>2017-10-10 21:25:13</td>\n",
       "      <td>2017-10-18 00:00:00</td>\n",
       "      <td>7c396fd4830fd04220f754e42b4e5bff</td>\n",
       "      <td>3149</td>\n",
       "      <td>...</td>\n",
       "      <td>housewares</td>\n",
       "      <td>1.0</td>\n",
       "      <td>credit_card</td>\n",
       "      <td>1.0</td>\n",
       "      <td>18.12</td>\n",
       "      <td>a54f0611adc9ed256b57ede6b6eb5114</td>\n",
       "      <td>4</td>\n",
       "      <td>2017-10-11 00:00:00</td>\n",
       "      <td>2017-10-12 03:43:48</td>\n",
       "      <td>True</td>\n",
       "    </tr>\n",
       "    <tr>\n",
       "      <th>1</th>\n",
       "      <td>e481f51cbdc54678b7cc49136f2d6af7</td>\n",
       "      <td>9ef432eb6251297304e76186b10a928d</td>\n",
       "      <td>delivered</td>\n",
       "      <td>2017-10-02 10:56:33</td>\n",
       "      <td>2017-10-02 11:07:15</td>\n",
       "      <td>2017-10-04 19:55:00</td>\n",
       "      <td>2017-10-10 21:25:13</td>\n",
       "      <td>2017-10-18 00:00:00</td>\n",
       "      <td>7c396fd4830fd04220f754e42b4e5bff</td>\n",
       "      <td>3149</td>\n",
       "      <td>...</td>\n",
       "      <td>housewares</td>\n",
       "      <td>3.0</td>\n",
       "      <td>voucher</td>\n",
       "      <td>1.0</td>\n",
       "      <td>2.00</td>\n",
       "      <td>a54f0611adc9ed256b57ede6b6eb5114</td>\n",
       "      <td>4</td>\n",
       "      <td>2017-10-11 00:00:00</td>\n",
       "      <td>2017-10-12 03:43:48</td>\n",
       "      <td>True</td>\n",
       "    </tr>\n",
       "    <tr>\n",
       "      <th>2</th>\n",
       "      <td>e481f51cbdc54678b7cc49136f2d6af7</td>\n",
       "      <td>9ef432eb6251297304e76186b10a928d</td>\n",
       "      <td>delivered</td>\n",
       "      <td>2017-10-02 10:56:33</td>\n",
       "      <td>2017-10-02 11:07:15</td>\n",
       "      <td>2017-10-04 19:55:00</td>\n",
       "      <td>2017-10-10 21:25:13</td>\n",
       "      <td>2017-10-18 00:00:00</td>\n",
       "      <td>7c396fd4830fd04220f754e42b4e5bff</td>\n",
       "      <td>3149</td>\n",
       "      <td>...</td>\n",
       "      <td>housewares</td>\n",
       "      <td>2.0</td>\n",
       "      <td>voucher</td>\n",
       "      <td>1.0</td>\n",
       "      <td>18.59</td>\n",
       "      <td>a54f0611adc9ed256b57ede6b6eb5114</td>\n",
       "      <td>4</td>\n",
       "      <td>2017-10-11 00:00:00</td>\n",
       "      <td>2017-10-12 03:43:48</td>\n",
       "      <td>True</td>\n",
       "    </tr>\n",
       "    <tr>\n",
       "      <th>3</th>\n",
       "      <td>53cdb2fc8bc7dce0b6741e2150273451</td>\n",
       "      <td>b0830fb4747a6c6d20dea0b8c802d7ef</td>\n",
       "      <td>delivered</td>\n",
       "      <td>2018-07-24 20:41:37</td>\n",
       "      <td>2018-07-26 03:24:27</td>\n",
       "      <td>2018-07-26 14:31:00</td>\n",
       "      <td>2018-08-07 15:27:45</td>\n",
       "      <td>2018-08-13 00:00:00</td>\n",
       "      <td>af07308b275d755c9edb36a90c618231</td>\n",
       "      <td>47813</td>\n",
       "      <td>...</td>\n",
       "      <td>perfumery</td>\n",
       "      <td>1.0</td>\n",
       "      <td>boleto</td>\n",
       "      <td>1.0</td>\n",
       "      <td>141.46</td>\n",
       "      <td>8d5266042046a06655c8db133d120ba5</td>\n",
       "      <td>4</td>\n",
       "      <td>2018-08-08 00:00:00</td>\n",
       "      <td>2018-08-08 18:37:50</td>\n",
       "      <td>True</td>\n",
       "    </tr>\n",
       "    <tr>\n",
       "      <th>4</th>\n",
       "      <td>47770eb9100c2d0c44946d9cf07ec65d</td>\n",
       "      <td>41ce2a54c0b03bf3443c3d931a367089</td>\n",
       "      <td>delivered</td>\n",
       "      <td>2018-08-08 08:38:49</td>\n",
       "      <td>2018-08-08 08:55:23</td>\n",
       "      <td>2018-08-08 13:50:00</td>\n",
       "      <td>2018-08-17 18:06:29</td>\n",
       "      <td>2018-09-04 00:00:00</td>\n",
       "      <td>3a653a41f6f9fc3d2a113cf8398680e8</td>\n",
       "      <td>75265</td>\n",
       "      <td>...</td>\n",
       "      <td>auto</td>\n",
       "      <td>1.0</td>\n",
       "      <td>credit_card</td>\n",
       "      <td>3.0</td>\n",
       "      <td>179.12</td>\n",
       "      <td>e73b67b67587f7644d5bd1a52deb1b01</td>\n",
       "      <td>5</td>\n",
       "      <td>2018-08-18 00:00:00</td>\n",
       "      <td>2018-08-22 19:07:58</td>\n",
       "      <td>False</td>\n",
       "    </tr>\n",
       "  </tbody>\n",
       "</table>\n",
       "<p>5 rows × 42 columns</p>\n",
       "</div>"
      ],
      "text/plain": [
       "                           order_id                       customer_id  \\\n",
       "0  e481f51cbdc54678b7cc49136f2d6af7  9ef432eb6251297304e76186b10a928d   \n",
       "1  e481f51cbdc54678b7cc49136f2d6af7  9ef432eb6251297304e76186b10a928d   \n",
       "2  e481f51cbdc54678b7cc49136f2d6af7  9ef432eb6251297304e76186b10a928d   \n",
       "3  53cdb2fc8bc7dce0b6741e2150273451  b0830fb4747a6c6d20dea0b8c802d7ef   \n",
       "4  47770eb9100c2d0c44946d9cf07ec65d  41ce2a54c0b03bf3443c3d931a367089   \n",
       "\n",
       "  order_status order_purchase_timestamp    order_approved_at  \\\n",
       "0    delivered      2017-10-02 10:56:33  2017-10-02 11:07:15   \n",
       "1    delivered      2017-10-02 10:56:33  2017-10-02 11:07:15   \n",
       "2    delivered      2017-10-02 10:56:33  2017-10-02 11:07:15   \n",
       "3    delivered      2018-07-24 20:41:37  2018-07-26 03:24:27   \n",
       "4    delivered      2018-08-08 08:38:49  2018-08-08 08:55:23   \n",
       "\n",
       "  order_delivered_carrier_date order_delivered_customer_date  \\\n",
       "0          2017-10-04 19:55:00           2017-10-10 21:25:13   \n",
       "1          2017-10-04 19:55:00           2017-10-10 21:25:13   \n",
       "2          2017-10-04 19:55:00           2017-10-10 21:25:13   \n",
       "3          2018-07-26 14:31:00           2018-08-07 15:27:45   \n",
       "4          2018-08-08 13:50:00           2018-08-17 18:06:29   \n",
       "\n",
       "  order_estimated_delivery_date                customer_unique_id  \\\n",
       "0           2017-10-18 00:00:00  7c396fd4830fd04220f754e42b4e5bff   \n",
       "1           2017-10-18 00:00:00  7c396fd4830fd04220f754e42b4e5bff   \n",
       "2           2017-10-18 00:00:00  7c396fd4830fd04220f754e42b4e5bff   \n",
       "3           2018-08-13 00:00:00  af07308b275d755c9edb36a90c618231   \n",
       "4           2018-09-04 00:00:00  3a653a41f6f9fc3d2a113cf8398680e8   \n",
       "\n",
       "   customer_zip_code_prefix  ... product_category_name payment_sequential  \\\n",
       "0                      3149  ...            housewares                1.0   \n",
       "1                      3149  ...            housewares                3.0   \n",
       "2                      3149  ...            housewares                2.0   \n",
       "3                     47813  ...             perfumery                1.0   \n",
       "4                     75265  ...                  auto                1.0   \n",
       "\n",
       "   payment_type  payment_installments  payment_value  \\\n",
       "0   credit_card                   1.0          18.12   \n",
       "1       voucher                   1.0           2.00   \n",
       "2       voucher                   1.0          18.59   \n",
       "3        boleto                   1.0         141.46   \n",
       "4   credit_card                   3.0         179.12   \n",
       "\n",
       "                          review_id review_score review_creation_date  \\\n",
       "0  a54f0611adc9ed256b57ede6b6eb5114            4  2017-10-11 00:00:00   \n",
       "1  a54f0611adc9ed256b57ede6b6eb5114            4  2017-10-11 00:00:00   \n",
       "2  a54f0611adc9ed256b57ede6b6eb5114            4  2017-10-11 00:00:00   \n",
       "3  8d5266042046a06655c8db133d120ba5            4  2018-08-08 00:00:00   \n",
       "4  e73b67b67587f7644d5bd1a52deb1b01            5  2018-08-18 00:00:00   \n",
       "\n",
       "   review_answer_timestamp  contain_message  \n",
       "0      2017-10-12 03:43:48             True  \n",
       "1      2017-10-12 03:43:48             True  \n",
       "2      2017-10-12 03:43:48             True  \n",
       "3      2018-08-08 18:37:50             True  \n",
       "4      2018-08-22 19:07:58            False  \n",
       "\n",
       "[5 rows x 42 columns]"
      ]
     },
     "execution_count": 3,
     "metadata": {},
     "output_type": "execute_result"
    }
   ],
   "source": [
    "df_olist_ecommerce = pd.read_csv('C:/Users/piari/Documents/Projet4_ecommerce/df_olist_total.csv', encoding='utf-8', low_memory=False)\n",
    "df_olist_ecommerce.head()"
   ]
  },
  {
   "cell_type": "code",
   "execution_count": 4,
   "metadata": {},
   "outputs": [
    {
     "data": {
      "text/plain": [
       "(119151, 42)"
      ]
     },
     "execution_count": 4,
     "metadata": {},
     "output_type": "execute_result"
    }
   ],
   "source": [
    "df_olist_ecommerce.shape"
   ]
  },
  {
   "cell_type": "code",
   "execution_count": 5,
   "metadata": {},
   "outputs": [
    {
     "name": "stdout",
     "output_type": "stream",
     "text": [
      "<class 'pandas.core.frame.DataFrame'>\n",
      "RangeIndex: 119151 entries, 0 to 119150\n",
      "Data columns (total 42 columns):\n",
      " #   Column                         Non-Null Count   Dtype  \n",
      "---  ------                         --------------   -----  \n",
      " 0   order_id                       119151 non-null  object \n",
      " 1   customer_id                    119151 non-null  object \n",
      " 2   order_status                   119151 non-null  object \n",
      " 3   order_purchase_timestamp       119151 non-null  object \n",
      " 4   order_approved_at              118974 non-null  object \n",
      " 5   order_delivered_carrier_date   117065 non-null  object \n",
      " 6   order_delivered_customer_date  115730 non-null  object \n",
      " 7   order_estimated_delivery_date  119151 non-null  object \n",
      " 8   customer_unique_id             119151 non-null  object \n",
      " 9   customer_zip_code_prefix       119151 non-null  int64  \n",
      " 10  customer_city                  119151 non-null  object \n",
      " 11  customer_state                 119151 non-null  object \n",
      " 12  customer_lat                   119151 non-null  float64\n",
      " 13  customer_lng                   119151 non-null  float64\n",
      " 14  order_item_id                  118318 non-null  float64\n",
      " 15  product_id                     118318 non-null  object \n",
      " 16  seller_id                      118318 non-null  object \n",
      " 17  shipping_limit_date            118318 non-null  object \n",
      " 18  price                          118318 non-null  float64\n",
      " 19  freight_value                  118318 non-null  float64\n",
      " 20  seller_zip_code_prefix         118318 non-null  float64\n",
      " 21  seller_city                    118318 non-null  object \n",
      " 22  seller_state                   118318 non-null  object \n",
      " 23  seller_lat                     118318 non-null  float64\n",
      " 24  seller_lng                     118318 non-null  float64\n",
      " 25  product_name_lenght            116609 non-null  float64\n",
      " 26  product_description_lenght     116609 non-null  float64\n",
      " 27  product_photos_qty             116609 non-null  float64\n",
      " 28  product_weight_g               118298 non-null  float64\n",
      " 29  product_length_cm              118298 non-null  float64\n",
      " 30  product_height_cm              118298 non-null  float64\n",
      " 31  product_width_cm               118298 non-null  float64\n",
      " 32  product_category_name          118318 non-null  object \n",
      " 33  payment_sequential             119148 non-null  float64\n",
      " 34  payment_type                   119148 non-null  object \n",
      " 35  payment_installments           119148 non-null  float64\n",
      " 36  payment_value                  119148 non-null  float64\n",
      " 37  review_id                      119151 non-null  object \n",
      " 38  review_score                   119151 non-null  int64  \n",
      " 39  review_creation_date           119151 non-null  object \n",
      " 40  review_answer_timestamp        119151 non-null  object \n",
      " 41  contain_message                119151 non-null  bool   \n",
      "dtypes: bool(1), float64(18), int64(2), object(21)\n",
      "memory usage: 37.4+ MB\n"
     ]
    }
   ],
   "source": [
    "df_olist_ecommerce.info()"
   ]
  },
  {
   "cell_type": "markdown",
   "metadata": {},
   "source": [
    "# Création de nouvelles variables <a class=\"anchor\" id=\"new_var\"></a>"
   ]
  },
  {
   "cell_type": "markdown",
   "metadata": {},
   "source": [
    "## Temps depuis la commande <a class=\"anchor\" id=\"delta_date_order\"></a>"
   ]
  },
  {
   "cell_type": "code",
   "execution_count": 6,
   "metadata": {},
   "outputs": [
    {
     "data": {
      "text/plain": [
       "'2018-10-17 17:30:18'"
      ]
     },
     "execution_count": 6,
     "metadata": {},
     "output_type": "execute_result"
    }
   ],
   "source": [
    "df_olist_ecommerce['order_purchase_timestamp'].max()"
   ]
  },
  {
   "cell_type": "code",
   "execution_count": 7,
   "metadata": {},
   "outputs": [
    {
     "data": {
      "text/plain": [
       "3421"
      ]
     },
     "execution_count": 7,
     "metadata": {},
     "output_type": "execute_result"
    }
   ],
   "source": [
    "df_olist_ecommerce['order_delivered_customer_date'].isna().sum()"
   ]
  },
  {
   "cell_type": "code",
   "execution_count": 8,
   "metadata": {},
   "outputs": [],
   "source": [
    "max_date = pd.to_datetime(df_olist_ecommerce['order_purchase_timestamp']).max()"
   ]
  },
  {
   "cell_type": "code",
   "execution_count": 9,
   "metadata": {},
   "outputs": [
    {
     "data": {
      "text/plain": [
       "Timestamp('2018-10-17 17:30:18')"
      ]
     },
     "execution_count": 9,
     "metadata": {},
     "output_type": "execute_result"
    }
   ],
   "source": [
    "max_date"
   ]
  },
  {
   "cell_type": "code",
   "execution_count": 10,
   "metadata": {},
   "outputs": [],
   "source": [
    "df_olist_ecommerce['delta_date_order'] = max_date - pd.to_datetime(df_olist_ecommerce['order_purchase_timestamp'])"
   ]
  },
  {
   "cell_type": "code",
   "execution_count": 11,
   "metadata": {},
   "outputs": [
    {
     "data": {
      "text/html": [
       "<div>\n",
       "<style scoped>\n",
       "    .dataframe tbody tr th:only-of-type {\n",
       "        vertical-align: middle;\n",
       "    }\n",
       "\n",
       "    .dataframe tbody tr th {\n",
       "        vertical-align: top;\n",
       "    }\n",
       "\n",
       "    .dataframe thead tr th {\n",
       "        text-align: left;\n",
       "    }\n",
       "\n",
       "    .dataframe thead tr:last-of-type th {\n",
       "        text-align: right;\n",
       "    }\n",
       "</style>\n",
       "<table border=\"1\" class=\"dataframe\">\n",
       "  <thead>\n",
       "    <tr>\n",
       "      <th></th>\n",
       "      <th>delta_date_order</th>\n",
       "      <th colspan=\"2\" halign=\"left\">order_purchase_timestamp</th>\n",
       "      <th colspan=\"3\" halign=\"left\">price</th>\n",
       "    </tr>\n",
       "    <tr>\n",
       "      <th></th>\n",
       "      <th>min</th>\n",
       "      <th>min</th>\n",
       "      <th>max</th>\n",
       "      <th>min</th>\n",
       "      <th>max</th>\n",
       "      <th>mean</th>\n",
       "    </tr>\n",
       "    <tr>\n",
       "      <th>customer_unique_id</th>\n",
       "      <th></th>\n",
       "      <th></th>\n",
       "      <th></th>\n",
       "      <th></th>\n",
       "      <th></th>\n",
       "      <th></th>\n",
       "    </tr>\n",
       "  </thead>\n",
       "  <tbody>\n",
       "    <tr>\n",
       "      <th>0000366f3b9a7992bf8c76cfdf3221e2</th>\n",
       "      <td>160 days 06:33:51</td>\n",
       "      <td>2018-05-10 10:56:27</td>\n",
       "      <td>2018-05-10 10:56:27</td>\n",
       "      <td>129.90</td>\n",
       "      <td>129.90</td>\n",
       "      <td>129.90</td>\n",
       "    </tr>\n",
       "    <tr>\n",
       "      <th>0000b849f77a49e4a4ce2b2a4ca5be3f</th>\n",
       "      <td>163 days 06:18:51</td>\n",
       "      <td>2018-05-07 11:11:27</td>\n",
       "      <td>2018-05-07 11:11:27</td>\n",
       "      <td>18.90</td>\n",
       "      <td>18.90</td>\n",
       "      <td>18.90</td>\n",
       "    </tr>\n",
       "    <tr>\n",
       "      <th>0000f46a3911fa3c0805444483337064</th>\n",
       "      <td>585 days 20:25:15</td>\n",
       "      <td>2017-03-10 21:05:03</td>\n",
       "      <td>2017-03-10 21:05:03</td>\n",
       "      <td>69.00</td>\n",
       "      <td>69.00</td>\n",
       "      <td>69.00</td>\n",
       "    </tr>\n",
       "    <tr>\n",
       "      <th>0000f6ccb0745a6a4b88665a16c9f078</th>\n",
       "      <td>369 days 21:00:37</td>\n",
       "      <td>2017-10-12 20:29:41</td>\n",
       "      <td>2017-10-12 20:29:41</td>\n",
       "      <td>25.99</td>\n",
       "      <td>25.99</td>\n",
       "      <td>25.99</td>\n",
       "    </tr>\n",
       "    <tr>\n",
       "      <th>0004aac84e0df4da2b147fca70cf8255</th>\n",
       "      <td>336 days 21:44:36</td>\n",
       "      <td>2017-11-14 19:45:42</td>\n",
       "      <td>2017-11-14 19:45:42</td>\n",
       "      <td>180.00</td>\n",
       "      <td>180.00</td>\n",
       "      <td>180.00</td>\n",
       "    </tr>\n",
       "    <tr>\n",
       "      <th>...</th>\n",
       "      <td>...</td>\n",
       "      <td>...</td>\n",
       "      <td>...</td>\n",
       "      <td>...</td>\n",
       "      <td>...</td>\n",
       "      <td>...</td>\n",
       "    </tr>\n",
       "    <tr>\n",
       "      <th>fffcf5a5ff07b0908bd4e2dbc735a684</th>\n",
       "      <td>495 days 20:29:42</td>\n",
       "      <td>2017-06-08 21:00:36</td>\n",
       "      <td>2017-06-08 21:00:36</td>\n",
       "      <td>680.00</td>\n",
       "      <td>890.00</td>\n",
       "      <td>785.00</td>\n",
       "    </tr>\n",
       "    <tr>\n",
       "      <th>fffea47cd6d3cc0a88bd621562a9d061</th>\n",
       "      <td>310 days 21:22:22</td>\n",
       "      <td>2017-12-10 20:07:56</td>\n",
       "      <td>2017-12-10 20:07:56</td>\n",
       "      <td>64.89</td>\n",
       "      <td>64.89</td>\n",
       "      <td>64.89</td>\n",
       "    </tr>\n",
       "    <tr>\n",
       "      <th>ffff371b4d645b6ecea244b27531430a</th>\n",
       "      <td>617 days 01:41:02</td>\n",
       "      <td>2017-02-07 15:49:16</td>\n",
       "      <td>2017-02-07 15:49:16</td>\n",
       "      <td>89.90</td>\n",
       "      <td>89.90</td>\n",
       "      <td>89.90</td>\n",
       "    </tr>\n",
       "    <tr>\n",
       "      <th>ffff5962728ec6157033ef9805bacc48</th>\n",
       "      <td>168 days 02:12:37</td>\n",
       "      <td>2018-05-02 15:17:41</td>\n",
       "      <td>2018-05-02 15:17:41</td>\n",
       "      <td>115.00</td>\n",
       "      <td>115.00</td>\n",
       "      <td>115.00</td>\n",
       "    </tr>\n",
       "    <tr>\n",
       "      <th>ffffd2657e2aad2907e67c3e9daecbeb</th>\n",
       "      <td>532 days 21:11:33</td>\n",
       "      <td>2017-05-02 20:18:45</td>\n",
       "      <td>2017-05-02 20:18:45</td>\n",
       "      <td>56.99</td>\n",
       "      <td>56.99</td>\n",
       "      <td>56.99</td>\n",
       "    </tr>\n",
       "  </tbody>\n",
       "</table>\n",
       "<p>96096 rows × 6 columns</p>\n",
       "</div>"
      ],
      "text/plain": [
       "                                  delta_date_order order_purchase_timestamp  \\\n",
       "                                               min                      min   \n",
       "customer_unique_id                                                            \n",
       "0000366f3b9a7992bf8c76cfdf3221e2 160 days 06:33:51      2018-05-10 10:56:27   \n",
       "0000b849f77a49e4a4ce2b2a4ca5be3f 163 days 06:18:51      2018-05-07 11:11:27   \n",
       "0000f46a3911fa3c0805444483337064 585 days 20:25:15      2017-03-10 21:05:03   \n",
       "0000f6ccb0745a6a4b88665a16c9f078 369 days 21:00:37      2017-10-12 20:29:41   \n",
       "0004aac84e0df4da2b147fca70cf8255 336 days 21:44:36      2017-11-14 19:45:42   \n",
       "...                                            ...                      ...   \n",
       "fffcf5a5ff07b0908bd4e2dbc735a684 495 days 20:29:42      2017-06-08 21:00:36   \n",
       "fffea47cd6d3cc0a88bd621562a9d061 310 days 21:22:22      2017-12-10 20:07:56   \n",
       "ffff371b4d645b6ecea244b27531430a 617 days 01:41:02      2017-02-07 15:49:16   \n",
       "ffff5962728ec6157033ef9805bacc48 168 days 02:12:37      2018-05-02 15:17:41   \n",
       "ffffd2657e2aad2907e67c3e9daecbeb 532 days 21:11:33      2017-05-02 20:18:45   \n",
       "\n",
       "                                                        price                  \n",
       "                                                  max     min     max    mean  \n",
       "customer_unique_id                                                             \n",
       "0000366f3b9a7992bf8c76cfdf3221e2  2018-05-10 10:56:27  129.90  129.90  129.90  \n",
       "0000b849f77a49e4a4ce2b2a4ca5be3f  2018-05-07 11:11:27   18.90   18.90   18.90  \n",
       "0000f46a3911fa3c0805444483337064  2017-03-10 21:05:03   69.00   69.00   69.00  \n",
       "0000f6ccb0745a6a4b88665a16c9f078  2017-10-12 20:29:41   25.99   25.99   25.99  \n",
       "0004aac84e0df4da2b147fca70cf8255  2017-11-14 19:45:42  180.00  180.00  180.00  \n",
       "...                                               ...     ...     ...     ...  \n",
       "fffcf5a5ff07b0908bd4e2dbc735a684  2017-06-08 21:00:36  680.00  890.00  785.00  \n",
       "fffea47cd6d3cc0a88bd621562a9d061  2017-12-10 20:07:56   64.89   64.89   64.89  \n",
       "ffff371b4d645b6ecea244b27531430a  2017-02-07 15:49:16   89.90   89.90   89.90  \n",
       "ffff5962728ec6157033ef9805bacc48  2018-05-02 15:17:41  115.00  115.00  115.00  \n",
       "ffffd2657e2aad2907e67c3e9daecbeb  2017-05-02 20:18:45   56.99   56.99   56.99  \n",
       "\n",
       "[96096 rows x 6 columns]"
      ]
     },
     "execution_count": 11,
     "metadata": {},
     "output_type": "execute_result"
    }
   ],
   "source": [
    "df_olist_ecommerce.groupby('customer_unique_id').agg({\n",
    "    'delta_date_order':'min',\n",
    "    'order_purchase_timestamp': ('min', 'max'),\n",
    "    'price': ('min', 'max', 'mean'),\n",
    "})"
   ]
  },
  {
   "cell_type": "code",
   "execution_count": 12,
   "metadata": {},
   "outputs": [
    {
     "data": {
      "text/html": [
       "<div>\n",
       "<style scoped>\n",
       "    .dataframe tbody tr th:only-of-type {\n",
       "        vertical-align: middle;\n",
       "    }\n",
       "\n",
       "    .dataframe tbody tr th {\n",
       "        vertical-align: top;\n",
       "    }\n",
       "\n",
       "    .dataframe thead th {\n",
       "        text-align: right;\n",
       "    }\n",
       "</style>\n",
       "<table border=\"1\" class=\"dataframe\">\n",
       "  <thead>\n",
       "    <tr style=\"text-align: right;\">\n",
       "      <th></th>\n",
       "      <th>delta_date_order</th>\n",
       "    </tr>\n",
       "  </thead>\n",
       "  <tbody>\n",
       "    <tr>\n",
       "      <th>count</th>\n",
       "      <td>96096</td>\n",
       "    </tr>\n",
       "    <tr>\n",
       "      <th>mean</th>\n",
       "      <td>288 days 04:49:58.344135112</td>\n",
       "    </tr>\n",
       "    <tr>\n",
       "      <th>std</th>\n",
       "      <td>153 days 09:59:29.882079690</td>\n",
       "    </tr>\n",
       "    <tr>\n",
       "      <th>min</th>\n",
       "      <td>0 days 00:00:00</td>\n",
       "    </tr>\n",
       "    <tr>\n",
       "      <th>25%</th>\n",
       "      <td>163 days 21:15:28.250000</td>\n",
       "    </tr>\n",
       "    <tr>\n",
       "      <th>50%</th>\n",
       "      <td>268 days 21:51:02</td>\n",
       "    </tr>\n",
       "    <tr>\n",
       "      <th>75%</th>\n",
       "      <td>397 days 08:26:00.750000</td>\n",
       "    </tr>\n",
       "    <tr>\n",
       "      <th>max</th>\n",
       "      <td>772 days 20:14:59</td>\n",
       "    </tr>\n",
       "  </tbody>\n",
       "</table>\n",
       "</div>"
      ],
      "text/plain": [
       "                  delta_date_order\n",
       "count                        96096\n",
       "mean   288 days 04:49:58.344135112\n",
       "std    153 days 09:59:29.882079690\n",
       "min                0 days 00:00:00\n",
       "25%       163 days 21:15:28.250000\n",
       "50%              268 days 21:51:02\n",
       "75%       397 days 08:26:00.750000\n",
       "max              772 days 20:14:59"
      ]
     },
     "execution_count": 12,
     "metadata": {},
     "output_type": "execute_result"
    }
   ],
   "source": [
    "df_olist_ecommerce.groupby('customer_unique_id').agg({'delta_date_order':'min'}).describe()"
   ]
  },
  {
   "cell_type": "markdown",
   "metadata": {},
   "source": [
    "## Distance entre le client et le vendeur <a class=\"anchor\" id=\"customer_seller_distance\"></a>"
   ]
  },
  {
   "cell_type": "code",
   "execution_count": 13,
   "metadata": {},
   "outputs": [],
   "source": [
    "# https://stackoverflow.com/questions/40452759/pandas-latitude-longitude-to-distance-between-successive-rows\n",
    "# vectorized haversine function\n",
    "def haversine(lat1, lon1, lat2, lon2, to_radians=True, earth_radius=6371):\n",
    "    \"\"\"\n",
    "    slightly modified version: of http://stackoverflow.com/a/29546836/2901002\n",
    "\n",
    "    Calculate the great circle distance between two points\n",
    "    on the earth (specified in decimal degrees or in radians)\n",
    "\n",
    "    All (lat, lon) coordinates must have numeric dtypes and be of equal length.\n",
    "\n",
    "    \"\"\"\n",
    "    lat2 = float(lat2)\n",
    "    lon2 = float(lon2)\n",
    "    lat1 = float(lat1)\n",
    "    lon1 = float(lon1)\n",
    "    if to_radians:\n",
    "        try:\n",
    "            lat1, lon1, lat2, lon2 = np.radians([lat1, lon1, lat2, lon2])\n",
    "        except:\n",
    "            print([lat1, lon1, lat2, lon2])\n",
    "\n",
    "    a = np.sin((lat2-lat1)/2.0)**2 + \\\n",
    "        np.cos(lat1) * np.cos(lat2) * np.sin((lon2-lon1)/2.0)**2\n",
    "\n",
    "    return earth_radius * 2 * np.arcsin(np.sqrt(a))"
   ]
  },
  {
   "cell_type": "code",
   "execution_count": 14,
   "metadata": {},
   "outputs": [],
   "source": [
    "# distance en kilomètres\n",
    "df_olist_ecommerce['customer_seller_distance'] = df_olist_ecommerce.apply(lambda x:haversine(x['customer_lat'],x['customer_lng'], x['seller_lat'], x['seller_lng']), axis=1)"
   ]
  },
  {
   "cell_type": "code",
   "execution_count": 15,
   "metadata": {},
   "outputs": [
    {
     "data": {
      "text/plain": [
       "count    118318.000000\n",
       "mean        598.179773\n",
       "std         590.295692\n",
       "min           0.000000\n",
       "25%         188.423272\n",
       "50%         433.347832\n",
       "75%         794.485352\n",
       "max        8677.898938\n",
       "Name: customer_seller_distance, dtype: float64"
      ]
     },
     "execution_count": 15,
     "metadata": {},
     "output_type": "execute_result"
    }
   ],
   "source": [
    "df_olist_ecommerce['customer_seller_distance'].describe()"
   ]
  },
  {
   "cell_type": "code",
   "execution_count": 16,
   "metadata": {},
   "outputs": [
    {
     "data": {
      "text/html": [
       "<div>\n",
       "<style scoped>\n",
       "    .dataframe tbody tr th:only-of-type {\n",
       "        vertical-align: middle;\n",
       "    }\n",
       "\n",
       "    .dataframe tbody tr th {\n",
       "        vertical-align: top;\n",
       "    }\n",
       "\n",
       "    .dataframe thead th {\n",
       "        text-align: right;\n",
       "    }\n",
       "</style>\n",
       "<table border=\"1\" class=\"dataframe\">\n",
       "  <thead>\n",
       "    <tr style=\"text-align: right;\">\n",
       "      <th></th>\n",
       "      <th>customer_zip_code_prefix</th>\n",
       "      <th>customer_lat</th>\n",
       "      <th>customer_lng</th>\n",
       "      <th>order_item_id</th>\n",
       "      <th>price</th>\n",
       "      <th>freight_value</th>\n",
       "      <th>seller_zip_code_prefix</th>\n",
       "      <th>seller_lat</th>\n",
       "      <th>seller_lng</th>\n",
       "      <th>product_name_lenght</th>\n",
       "      <th>...</th>\n",
       "      <th>product_weight_g</th>\n",
       "      <th>product_length_cm</th>\n",
       "      <th>product_height_cm</th>\n",
       "      <th>product_width_cm</th>\n",
       "      <th>payment_sequential</th>\n",
       "      <th>payment_installments</th>\n",
       "      <th>payment_value</th>\n",
       "      <th>review_score</th>\n",
       "      <th>delta_date_order</th>\n",
       "      <th>customer_seller_distance</th>\n",
       "    </tr>\n",
       "  </thead>\n",
       "  <tbody>\n",
       "    <tr>\n",
       "      <th>count</th>\n",
       "      <td>119151.000000</td>\n",
       "      <td>119151.000000</td>\n",
       "      <td>119151.000000</td>\n",
       "      <td>118318.000000</td>\n",
       "      <td>118318.000000</td>\n",
       "      <td>118318.000000</td>\n",
       "      <td>118318.000000</td>\n",
       "      <td>118318.000000</td>\n",
       "      <td>118318.000000</td>\n",
       "      <td>116609.000000</td>\n",
       "      <td>...</td>\n",
       "      <td>118298.000000</td>\n",
       "      <td>118298.000000</td>\n",
       "      <td>118298.000000</td>\n",
       "      <td>118298.000000</td>\n",
       "      <td>119148.000000</td>\n",
       "      <td>119148.000000</td>\n",
       "      <td>119148.000000</td>\n",
       "      <td>119151.000000</td>\n",
       "      <td>119151</td>\n",
       "      <td>118318.000000</td>\n",
       "    </tr>\n",
       "    <tr>\n",
       "      <th>mean</th>\n",
       "      <td>35033.953253</td>\n",
       "      <td>-21.216282</td>\n",
       "      <td>-46.191418</td>\n",
       "      <td>1.196530</td>\n",
       "      <td>120.649109</td>\n",
       "      <td>20.032587</td>\n",
       "      <td>24442.245322</td>\n",
       "      <td>-22.794262</td>\n",
       "      <td>-47.238218</td>\n",
       "      <td>48.767402</td>\n",
       "      <td>...</td>\n",
       "      <td>2112.302803</td>\n",
       "      <td>30.264865</td>\n",
       "      <td>16.619994</td>\n",
       "      <td>23.074896</td>\n",
       "      <td>1.094731</td>\n",
       "      <td>2.941426</td>\n",
       "      <td>172.735670</td>\n",
       "      <td>3.998514</td>\n",
       "      <td>291 days 22:58:35.296498060</td>\n",
       "      <td>598.179773</td>\n",
       "    </tr>\n",
       "    <tr>\n",
       "      <th>std</th>\n",
       "      <td>29823.224176</td>\n",
       "      <td>5.572841</td>\n",
       "      <td>4.053372</td>\n",
       "      <td>0.699467</td>\n",
       "      <td>184.107686</td>\n",
       "      <td>15.836559</td>\n",
       "      <td>27572.843192</td>\n",
       "      <td>2.690999</td>\n",
       "      <td>2.337575</td>\n",
       "      <td>10.033526</td>\n",
       "      <td>...</td>\n",
       "      <td>3786.673988</td>\n",
       "      <td>16.188992</td>\n",
       "      <td>13.453771</td>\n",
       "      <td>11.749216</td>\n",
       "      <td>0.730117</td>\n",
       "      <td>2.777992</td>\n",
       "      <td>267.770023</td>\n",
       "      <td>1.412529</td>\n",
       "      <td>153 days 16:35:58.831222270</td>\n",
       "      <td>590.295692</td>\n",
       "    </tr>\n",
       "    <tr>\n",
       "      <th>min</th>\n",
       "      <td>1003.000000</td>\n",
       "      <td>-33.690729</td>\n",
       "      <td>-72.670621</td>\n",
       "      <td>1.000000</td>\n",
       "      <td>0.850000</td>\n",
       "      <td>0.000000</td>\n",
       "      <td>1001.000000</td>\n",
       "      <td>-32.073840</td>\n",
       "      <td>-67.812015</td>\n",
       "      <td>5.000000</td>\n",
       "      <td>...</td>\n",
       "      <td>0.000000</td>\n",
       "      <td>7.000000</td>\n",
       "      <td>2.000000</td>\n",
       "      <td>6.000000</td>\n",
       "      <td>1.000000</td>\n",
       "      <td>0.000000</td>\n",
       "      <td>0.000000</td>\n",
       "      <td>1.000000</td>\n",
       "      <td>0 days 00:00:00</td>\n",
       "      <td>0.000000</td>\n",
       "    </tr>\n",
       "    <tr>\n",
       "      <th>25%</th>\n",
       "      <td>11250.000000</td>\n",
       "      <td>-23.589239</td>\n",
       "      <td>-48.079106</td>\n",
       "      <td>1.000000</td>\n",
       "      <td>39.900000</td>\n",
       "      <td>13.080000</td>\n",
       "      <td>6429.000000</td>\n",
       "      <td>-23.606097</td>\n",
       "      <td>-48.829262</td>\n",
       "      <td>42.000000</td>\n",
       "      <td>...</td>\n",
       "      <td>300.000000</td>\n",
       "      <td>18.000000</td>\n",
       "      <td>8.000000</td>\n",
       "      <td>15.000000</td>\n",
       "      <td>1.000000</td>\n",
       "      <td>1.000000</td>\n",
       "      <td>60.850000</td>\n",
       "      <td>3.000000</td>\n",
       "      <td>167 days 04:19:03</td>\n",
       "      <td>188.423272</td>\n",
       "    </tr>\n",
       "    <tr>\n",
       "      <th>50%</th>\n",
       "      <td>24240.000000</td>\n",
       "      <td>-22.926331</td>\n",
       "      <td>-46.632651</td>\n",
       "      <td>1.000000</td>\n",
       "      <td>74.900000</td>\n",
       "      <td>16.280000</td>\n",
       "      <td>13660.000000</td>\n",
       "      <td>-23.423346</td>\n",
       "      <td>-46.744318</td>\n",
       "      <td>52.000000</td>\n",
       "      <td>...</td>\n",
       "      <td>700.000000</td>\n",
       "      <td>25.000000</td>\n",
       "      <td>13.000000</td>\n",
       "      <td>20.000000</td>\n",
       "      <td>1.000000</td>\n",
       "      <td>2.000000</td>\n",
       "      <td>108.160000</td>\n",
       "      <td>5.000000</td>\n",
       "      <td>273 days 05:31:06</td>\n",
       "      <td>433.347832</td>\n",
       "    </tr>\n",
       "    <tr>\n",
       "      <th>75%</th>\n",
       "      <td>58475.000000</td>\n",
       "      <td>-20.140685</td>\n",
       "      <td>-43.614888</td>\n",
       "      <td>1.000000</td>\n",
       "      <td>134.900000</td>\n",
       "      <td>21.180000</td>\n",
       "      <td>27972.000000</td>\n",
       "      <td>-21.757538</td>\n",
       "      <td>-46.520839</td>\n",
       "      <td>57.000000</td>\n",
       "      <td>...</td>\n",
       "      <td>1800.000000</td>\n",
       "      <td>38.000000</td>\n",
       "      <td>20.000000</td>\n",
       "      <td>30.000000</td>\n",
       "      <td>1.000000</td>\n",
       "      <td>4.000000</td>\n",
       "      <td>189.240000</td>\n",
       "      <td>5.000000</td>\n",
       "      <td>401 days 21:14:32</td>\n",
       "      <td>794.485352</td>\n",
       "    </tr>\n",
       "    <tr>\n",
       "      <th>max</th>\n",
       "      <td>99990.000000</td>\n",
       "      <td>42.184003</td>\n",
       "      <td>37.830233</td>\n",
       "      <td>21.000000</td>\n",
       "      <td>6735.000000</td>\n",
       "      <td>409.680000</td>\n",
       "      <td>99730.000000</td>\n",
       "      <td>-2.501703</td>\n",
       "      <td>-34.855504</td>\n",
       "      <td>76.000000</td>\n",
       "      <td>...</td>\n",
       "      <td>40425.000000</td>\n",
       "      <td>105.000000</td>\n",
       "      <td>105.000000</td>\n",
       "      <td>118.000000</td>\n",
       "      <td>29.000000</td>\n",
       "      <td>24.000000</td>\n",
       "      <td>13664.080000</td>\n",
       "      <td>5.000000</td>\n",
       "      <td>772 days 20:14:59</td>\n",
       "      <td>8677.898938</td>\n",
       "    </tr>\n",
       "  </tbody>\n",
       "</table>\n",
       "<p>8 rows × 22 columns</p>\n",
       "</div>"
      ],
      "text/plain": [
       "       customer_zip_code_prefix   customer_lat   customer_lng  order_item_id  \\\n",
       "count             119151.000000  119151.000000  119151.000000  118318.000000   \n",
       "mean               35033.953253     -21.216282     -46.191418       1.196530   \n",
       "std                29823.224176       5.572841       4.053372       0.699467   \n",
       "min                 1003.000000     -33.690729     -72.670621       1.000000   \n",
       "25%                11250.000000     -23.589239     -48.079106       1.000000   \n",
       "50%                24240.000000     -22.926331     -46.632651       1.000000   \n",
       "75%                58475.000000     -20.140685     -43.614888       1.000000   \n",
       "max                99990.000000      42.184003      37.830233      21.000000   \n",
       "\n",
       "               price  freight_value  seller_zip_code_prefix     seller_lat  \\\n",
       "count  118318.000000  118318.000000           118318.000000  118318.000000   \n",
       "mean      120.649109      20.032587            24442.245322     -22.794262   \n",
       "std       184.107686      15.836559            27572.843192       2.690999   \n",
       "min         0.850000       0.000000             1001.000000     -32.073840   \n",
       "25%        39.900000      13.080000             6429.000000     -23.606097   \n",
       "50%        74.900000      16.280000            13660.000000     -23.423346   \n",
       "75%       134.900000      21.180000            27972.000000     -21.757538   \n",
       "max      6735.000000     409.680000            99730.000000      -2.501703   \n",
       "\n",
       "          seller_lng  product_name_lenght  ...  product_weight_g  \\\n",
       "count  118318.000000        116609.000000  ...     118298.000000   \n",
       "mean      -47.238218            48.767402  ...       2112.302803   \n",
       "std         2.337575            10.033526  ...       3786.673988   \n",
       "min       -67.812015             5.000000  ...          0.000000   \n",
       "25%       -48.829262            42.000000  ...        300.000000   \n",
       "50%       -46.744318            52.000000  ...        700.000000   \n",
       "75%       -46.520839            57.000000  ...       1800.000000   \n",
       "max       -34.855504            76.000000  ...      40425.000000   \n",
       "\n",
       "       product_length_cm  product_height_cm  product_width_cm  \\\n",
       "count      118298.000000      118298.000000     118298.000000   \n",
       "mean           30.264865          16.619994         23.074896   \n",
       "std            16.188992          13.453771         11.749216   \n",
       "min             7.000000           2.000000          6.000000   \n",
       "25%            18.000000           8.000000         15.000000   \n",
       "50%            25.000000          13.000000         20.000000   \n",
       "75%            38.000000          20.000000         30.000000   \n",
       "max           105.000000         105.000000        118.000000   \n",
       "\n",
       "       payment_sequential  payment_installments  payment_value   review_score  \\\n",
       "count       119148.000000         119148.000000  119148.000000  119151.000000   \n",
       "mean             1.094731              2.941426     172.735670       3.998514   \n",
       "std              0.730117              2.777992     267.770023       1.412529   \n",
       "min              1.000000              0.000000       0.000000       1.000000   \n",
       "25%              1.000000              1.000000      60.850000       3.000000   \n",
       "50%              1.000000              2.000000     108.160000       5.000000   \n",
       "75%              1.000000              4.000000     189.240000       5.000000   \n",
       "max             29.000000             24.000000   13664.080000       5.000000   \n",
       "\n",
       "                  delta_date_order  customer_seller_distance  \n",
       "count                       119151             118318.000000  \n",
       "mean   291 days 22:58:35.296498060                598.179773  \n",
       "std    153 days 16:35:58.831222270                590.295692  \n",
       "min                0 days 00:00:00                  0.000000  \n",
       "25%              167 days 04:19:03                188.423272  \n",
       "50%              273 days 05:31:06                433.347832  \n",
       "75%              401 days 21:14:32                794.485352  \n",
       "max              772 days 20:14:59               8677.898938  \n",
       "\n",
       "[8 rows x 22 columns]"
      ]
     },
     "execution_count": 16,
     "metadata": {},
     "output_type": "execute_result"
    }
   ],
   "source": [
    "df_olist_ecommerce.describe()"
   ]
  },
  {
   "cell_type": "code",
   "execution_count": 17,
   "metadata": {},
   "outputs": [
    {
     "data": {
      "text/plain": [
       "order_id                            0\n",
       "customer_id                         0\n",
       "order_status                        0\n",
       "order_purchase_timestamp            0\n",
       "order_approved_at                 177\n",
       "order_delivered_carrier_date     2086\n",
       "order_delivered_customer_date    3421\n",
       "order_estimated_delivery_date       0\n",
       "customer_unique_id                  0\n",
       "customer_zip_code_prefix            0\n",
       "customer_city                       0\n",
       "customer_state                      0\n",
       "customer_lat                        0\n",
       "customer_lng                        0\n",
       "order_item_id                     833\n",
       "product_id                        833\n",
       "seller_id                         833\n",
       "shipping_limit_date               833\n",
       "price                             833\n",
       "freight_value                     833\n",
       "seller_zip_code_prefix            833\n",
       "seller_city                       833\n",
       "seller_state                      833\n",
       "seller_lat                        833\n",
       "seller_lng                        833\n",
       "product_name_lenght              2542\n",
       "product_description_lenght       2542\n",
       "product_photos_qty               2542\n",
       "product_weight_g                  853\n",
       "product_length_cm                 853\n",
       "product_height_cm                 853\n",
       "product_width_cm                  853\n",
       "product_category_name             833\n",
       "payment_sequential                  3\n",
       "payment_type                        3\n",
       "payment_installments                3\n",
       "payment_value                       3\n",
       "review_id                           0\n",
       "review_score                        0\n",
       "review_creation_date                0\n",
       "review_answer_timestamp             0\n",
       "contain_message                     0\n",
       "delta_date_order                    0\n",
       "customer_seller_distance          833\n",
       "dtype: int64"
      ]
     },
     "execution_count": 17,
     "metadata": {},
     "output_type": "execute_result"
    }
   ],
   "source": [
    "df_olist_ecommerce.isna().sum()"
   ]
  },
  {
   "cell_type": "code",
   "execution_count": 18,
   "metadata": {},
   "outputs": [],
   "source": [
    "df_olist_ecommerce.drop(['customer_lat', 'customer_lng', 'seller_lat', 'seller_lng'], axis=1, inplace=True)"
   ]
  },
  {
   "cell_type": "code",
   "execution_count": 19,
   "metadata": {},
   "outputs": [
    {
     "data": {
      "text/plain": [
       "(119151, 40)"
      ]
     },
     "execution_count": 19,
     "metadata": {},
     "output_type": "execute_result"
    }
   ],
   "source": [
    "df_olist_ecommerce.shape"
   ]
  },
  {
   "cell_type": "code",
   "execution_count": 20,
   "metadata": {},
   "outputs": [],
   "source": [
    "# nbre d'achats en fonction de distance\n",
    "df_olist_ecommerce['customer_seller_distance_inferior50km'] = df_olist_ecommerce['customer_seller_distance'] <= 50"
   ]
  },
  {
   "cell_type": "code",
   "execution_count": 21,
   "metadata": {},
   "outputs": [],
   "source": [
    "df_olist_ecommerce['customer_seller_distance_51km-100km'] = ((df_olist_ecommerce['customer_seller_distance'] > 50) & (df_olist_ecommerce['customer_seller_distance'] <= 100))"
   ]
  },
  {
   "cell_type": "code",
   "execution_count": 22,
   "metadata": {},
   "outputs": [],
   "source": [
    "df_olist_ecommerce['customer_seller_distance_101km-1000km'] = ((df_olist_ecommerce['customer_seller_distance'] > 100) & (df_olist_ecommerce['customer_seller_distance'] <= 1000))"
   ]
  },
  {
   "cell_type": "code",
   "execution_count": 23,
   "metadata": {},
   "outputs": [],
   "source": [
    "df_olist_ecommerce['customer_seller_distance_1001km_plus'] = df_olist_ecommerce['customer_seller_distance'] > 1000"
   ]
  },
  {
   "cell_type": "markdown",
   "metadata": {},
   "source": [
    "## Changement de format pour datetime <a class=\"anchor\" id=\"to_datetime\"></a>"
   ]
  },
  {
   "cell_type": "code",
   "execution_count": 24,
   "metadata": {},
   "outputs": [],
   "source": [
    "df_olist_ecommerce['order_delivered_customer_date'] = pd.to_datetime(df_olist_ecommerce['order_delivered_customer_date'])"
   ]
  },
  {
   "cell_type": "code",
   "execution_count": 25,
   "metadata": {},
   "outputs": [],
   "source": [
    "df_olist_ecommerce['order_purchase_timestamp'] = pd.to_datetime(df_olist_ecommerce['order_purchase_timestamp'])"
   ]
  },
  {
   "cell_type": "markdown",
   "metadata": {},
   "source": [
    "## Durée de livraison <a class=\"anchor\" id=\"delivery_period\"></a>"
   ]
  },
  {
   "cell_type": "code",
   "execution_count": 26,
   "metadata": {},
   "outputs": [],
   "source": [
    "df_olist_ecommerce['delivery_period'] = df_olist_ecommerce['order_delivered_customer_date'] - df_olist_ecommerce['order_purchase_timestamp']"
   ]
  },
  {
   "cell_type": "code",
   "execution_count": 27,
   "metadata": {},
   "outputs": [
    {
     "data": {
      "text/plain": [
       "0         8 days 10:28:40\n",
       "1         8 days 10:28:40\n",
       "2         8 days 10:28:40\n",
       "3        13 days 18:46:08\n",
       "4         9 days 09:27:40\n",
       "               ...       \n",
       "119146   22 days 04:38:58\n",
       "119147   24 days 20:37:34\n",
       "119148   17 days 02:04:27\n",
       "119149   17 days 02:04:27\n",
       "119150    7 days 16:11:00\n",
       "Name: delivery_period, Length: 119151, dtype: timedelta64[ns]"
      ]
     },
     "execution_count": 27,
     "metadata": {},
     "output_type": "execute_result"
    }
   ],
   "source": [
    "df_olist_ecommerce['delivery_period']"
   ]
  },
  {
   "cell_type": "markdown",
   "metadata": {},
   "source": [
    "## Colonnes par type de status de la commande <a class=\"anchor\" id=\"order_status\"></a>"
   ]
  },
  {
   "cell_type": "code",
   "execution_count": 28,
   "metadata": {},
   "outputs": [
    {
     "data": {
      "text/plain": [
       "array(['invoiced', 'shipped', 'processing', 'unavailable', 'canceled',\n",
       "       'delivered', 'created', 'approved'], dtype=object)"
      ]
     },
     "execution_count": 28,
     "metadata": {},
     "output_type": "execute_result"
    }
   ],
   "source": [
    "df_olist_ecommerce[df_olist_ecommerce['order_delivered_customer_date'].isna()]['order_status'].unique()"
   ]
  },
  {
   "cell_type": "code",
   "execution_count": 29,
   "metadata": {},
   "outputs": [
    {
     "data": {
      "text/plain": [
       "array(['delivered', 'invoiced', 'shipped', 'processing', 'unavailable',\n",
       "       'canceled', 'created', 'approved'], dtype=object)"
      ]
     },
     "execution_count": 29,
     "metadata": {},
     "output_type": "execute_result"
    }
   ],
   "source": [
    "df_olist_ecommerce['order_status'].unique()"
   ]
  },
  {
   "cell_type": "code",
   "execution_count": 30,
   "metadata": {},
   "outputs": [],
   "source": [
    "order_status_dico = {\n",
    "    'delivered' : ['delivered'],\n",
    "    'in_progress' : ['invoiced', 'shipped', 'processing', 'created', 'approved'],\n",
    "    'unavailable' : ['unavailable'],\n",
    "    'canceled' : ['canceled']\n",
    "}"
   ]
  },
  {
   "cell_type": "code",
   "execution_count": 31,
   "metadata": {},
   "outputs": [],
   "source": [
    "for column_name, column_values in order_status_dico.items():\n",
    "    df_olist_ecommerce[column_name]=df_olist_ecommerce['order_status'].isin(column_values)"
   ]
  },
  {
   "cell_type": "code",
   "execution_count": 32,
   "metadata": {},
   "outputs": [
    {
     "data": {
      "text/html": [
       "<div>\n",
       "<style scoped>\n",
       "    .dataframe tbody tr th:only-of-type {\n",
       "        vertical-align: middle;\n",
       "    }\n",
       "\n",
       "    .dataframe tbody tr th {\n",
       "        vertical-align: top;\n",
       "    }\n",
       "\n",
       "    .dataframe thead th {\n",
       "        text-align: right;\n",
       "    }\n",
       "</style>\n",
       "<table border=\"1\" class=\"dataframe\">\n",
       "  <thead>\n",
       "    <tr style=\"text-align: right;\">\n",
       "      <th></th>\n",
       "      <th>order_id</th>\n",
       "      <th>customer_id</th>\n",
       "      <th>order_status</th>\n",
       "      <th>order_purchase_timestamp</th>\n",
       "      <th>order_approved_at</th>\n",
       "      <th>order_delivered_carrier_date</th>\n",
       "      <th>order_delivered_customer_date</th>\n",
       "      <th>order_estimated_delivery_date</th>\n",
       "      <th>customer_unique_id</th>\n",
       "      <th>customer_zip_code_prefix</th>\n",
       "      <th>...</th>\n",
       "      <th>customer_seller_distance</th>\n",
       "      <th>customer_seller_distance_inferior50km</th>\n",
       "      <th>customer_seller_distance_51km-100km</th>\n",
       "      <th>customer_seller_distance_101km-1000km</th>\n",
       "      <th>customer_seller_distance_1001km_plus</th>\n",
       "      <th>delivery_period</th>\n",
       "      <th>delivered</th>\n",
       "      <th>in_progress</th>\n",
       "      <th>unavailable</th>\n",
       "      <th>canceled</th>\n",
       "    </tr>\n",
       "  </thead>\n",
       "  <tbody>\n",
       "    <tr>\n",
       "      <th>8</th>\n",
       "      <td>136cce7faa42fdb2cefd53fdc79a6098</td>\n",
       "      <td>ed0271e0b7da060a393796590e7b737a</td>\n",
       "      <td>invoiced</td>\n",
       "      <td>2017-04-11 12:22:08</td>\n",
       "      <td>2017-04-13 13:25:17</td>\n",
       "      <td>NaN</td>\n",
       "      <td>NaT</td>\n",
       "      <td>2017-05-09 00:00:00</td>\n",
       "      <td>36edbb3fb164b1f16485364b6fb04c73</td>\n",
       "      <td>98900</td>\n",
       "      <td>...</td>\n",
       "      <td>914.067122</td>\n",
       "      <td>False</td>\n",
       "      <td>False</td>\n",
       "      <td>True</td>\n",
       "      <td>False</td>\n",
       "      <td>NaT</td>\n",
       "      <td>False</td>\n",
       "      <td>True</td>\n",
       "      <td>False</td>\n",
       "      <td>False</td>\n",
       "    </tr>\n",
       "    <tr>\n",
       "      <th>51</th>\n",
       "      <td>ee64d42b8cf066f35eac1cf57de1aa85</td>\n",
       "      <td>caded193e8e47b8362864762a83db3c5</td>\n",
       "      <td>shipped</td>\n",
       "      <td>2018-06-04 16:44:48</td>\n",
       "      <td>2018-06-05 04:31:18</td>\n",
       "      <td>2018-06-05 14:32:00</td>\n",
       "      <td>NaT</td>\n",
       "      <td>2018-06-28 00:00:00</td>\n",
       "      <td>08fb46d35bb3ab4037202c23592d1259</td>\n",
       "      <td>13215</td>\n",
       "      <td>...</td>\n",
       "      <td>104.488492</td>\n",
       "      <td>False</td>\n",
       "      <td>False</td>\n",
       "      <td>True</td>\n",
       "      <td>False</td>\n",
       "      <td>NaT</td>\n",
       "      <td>False</td>\n",
       "      <td>True</td>\n",
       "      <td>False</td>\n",
       "      <td>False</td>\n",
       "    </tr>\n",
       "    <tr>\n",
       "      <th>125</th>\n",
       "      <td>0760a852e4e9d89eb77bf631eaaf1c84</td>\n",
       "      <td>d2a79636084590b7465af8ab374a8cf5</td>\n",
       "      <td>invoiced</td>\n",
       "      <td>2018-08-03 17:44:42</td>\n",
       "      <td>2018-08-07 06:15:14</td>\n",
       "      <td>NaN</td>\n",
       "      <td>NaT</td>\n",
       "      <td>2018-08-21 00:00:00</td>\n",
       "      <td>c7f8d7b1fffc946d7069574f74c39f4e</td>\n",
       "      <td>88140</td>\n",
       "      <td>...</td>\n",
       "      <td>514.304875</td>\n",
       "      <td>False</td>\n",
       "      <td>False</td>\n",
       "      <td>True</td>\n",
       "      <td>False</td>\n",
       "      <td>NaT</td>\n",
       "      <td>False</td>\n",
       "      <td>True</td>\n",
       "      <td>False</td>\n",
       "      <td>False</td>\n",
       "    </tr>\n",
       "    <tr>\n",
       "      <th>155</th>\n",
       "      <td>15bed8e2fec7fdbadb186b57c46c92f2</td>\n",
       "      <td>f3f0e613e0bdb9c7cee75504f0f90679</td>\n",
       "      <td>processing</td>\n",
       "      <td>2017-09-03 14:22:03</td>\n",
       "      <td>2017-09-03 14:30:09</td>\n",
       "      <td>NaN</td>\n",
       "      <td>NaT</td>\n",
       "      <td>2017-10-03 00:00:00</td>\n",
       "      <td>9f269af9c49244f6ba4a46985a3cfc2e</td>\n",
       "      <td>3436</td>\n",
       "      <td>...</td>\n",
       "      <td>524.118861</td>\n",
       "      <td>False</td>\n",
       "      <td>False</td>\n",
       "      <td>True</td>\n",
       "      <td>False</td>\n",
       "      <td>NaT</td>\n",
       "      <td>False</td>\n",
       "      <td>True</td>\n",
       "      <td>False</td>\n",
       "      <td>False</td>\n",
       "    </tr>\n",
       "    <tr>\n",
       "      <th>192</th>\n",
       "      <td>6942b8da583c2f9957e990d028607019</td>\n",
       "      <td>52006a9383bf149a4fb24226b173106f</td>\n",
       "      <td>shipped</td>\n",
       "      <td>2018-01-10 11:33:07</td>\n",
       "      <td>2018-01-11 02:32:30</td>\n",
       "      <td>2018-01-11 19:39:23</td>\n",
       "      <td>NaT</td>\n",
       "      <td>2018-02-07 00:00:00</td>\n",
       "      <td>528b011eb7fab3d59c336cc7248eed3a</td>\n",
       "      <td>38600</td>\n",
       "      <td>...</td>\n",
       "      <td>716.472758</td>\n",
       "      <td>False</td>\n",
       "      <td>False</td>\n",
       "      <td>True</td>\n",
       "      <td>False</td>\n",
       "      <td>NaT</td>\n",
       "      <td>False</td>\n",
       "      <td>True</td>\n",
       "      <td>False</td>\n",
       "      <td>False</td>\n",
       "    </tr>\n",
       "    <tr>\n",
       "      <th>...</th>\n",
       "      <td>...</td>\n",
       "      <td>...</td>\n",
       "      <td>...</td>\n",
       "      <td>...</td>\n",
       "      <td>...</td>\n",
       "      <td>...</td>\n",
       "      <td>...</td>\n",
       "      <td>...</td>\n",
       "      <td>...</td>\n",
       "      <td>...</td>\n",
       "      <td>...</td>\n",
       "      <td>...</td>\n",
       "      <td>...</td>\n",
       "      <td>...</td>\n",
       "      <td>...</td>\n",
       "      <td>...</td>\n",
       "      <td>...</td>\n",
       "      <td>...</td>\n",
       "      <td>...</td>\n",
       "      <td>...</td>\n",
       "      <td>...</td>\n",
       "    </tr>\n",
       "    <tr>\n",
       "      <th>118754</th>\n",
       "      <td>274a7f7e4f1c17b7434a830e9b8759b1</td>\n",
       "      <td>670af30ca5b8c20878fecdafa5ee01b9</td>\n",
       "      <td>shipped</td>\n",
       "      <td>2018-06-23 13:25:15</td>\n",
       "      <td>2018-06-23 13:40:11</td>\n",
       "      <td>2018-07-04 13:51:00</td>\n",
       "      <td>NaT</td>\n",
       "      <td>2018-07-24 00:00:00</td>\n",
       "      <td>8823bc1bf8b46bec53f2b6e7c5d0a8c0</td>\n",
       "      <td>49030</td>\n",
       "      <td>...</td>\n",
       "      <td>1720.026017</td>\n",
       "      <td>False</td>\n",
       "      <td>False</td>\n",
       "      <td>False</td>\n",
       "      <td>True</td>\n",
       "      <td>NaT</td>\n",
       "      <td>False</td>\n",
       "      <td>True</td>\n",
       "      <td>False</td>\n",
       "      <td>False</td>\n",
       "    </tr>\n",
       "    <tr>\n",
       "      <th>118755</th>\n",
       "      <td>274a7f7e4f1c17b7434a830e9b8759b1</td>\n",
       "      <td>670af30ca5b8c20878fecdafa5ee01b9</td>\n",
       "      <td>shipped</td>\n",
       "      <td>2018-06-23 13:25:15</td>\n",
       "      <td>2018-06-23 13:40:11</td>\n",
       "      <td>2018-07-04 13:51:00</td>\n",
       "      <td>NaT</td>\n",
       "      <td>2018-07-24 00:00:00</td>\n",
       "      <td>8823bc1bf8b46bec53f2b6e7c5d0a8c0</td>\n",
       "      <td>49030</td>\n",
       "      <td>...</td>\n",
       "      <td>1720.026017</td>\n",
       "      <td>False</td>\n",
       "      <td>False</td>\n",
       "      <td>False</td>\n",
       "      <td>True</td>\n",
       "      <td>NaT</td>\n",
       "      <td>False</td>\n",
       "      <td>True</td>\n",
       "      <td>False</td>\n",
       "      <td>False</td>\n",
       "    </tr>\n",
       "    <tr>\n",
       "      <th>118787</th>\n",
       "      <td>aea0db338150b526dde24f6fd953a5ed</td>\n",
       "      <td>379a02efdc6a56bd27f99b95fc2f6c06</td>\n",
       "      <td>processing</td>\n",
       "      <td>2017-12-26 21:56:13</td>\n",
       "      <td>2017-12-26 22:05:26</td>\n",
       "      <td>NaN</td>\n",
       "      <td>NaT</td>\n",
       "      <td>2018-01-26 00:00:00</td>\n",
       "      <td>43fb4e33ebe4ac765e99c7b57e5d6940</td>\n",
       "      <td>79200</td>\n",
       "      <td>...</td>\n",
       "      <td>1014.834281</td>\n",
       "      <td>False</td>\n",
       "      <td>False</td>\n",
       "      <td>False</td>\n",
       "      <td>True</td>\n",
       "      <td>NaT</td>\n",
       "      <td>False</td>\n",
       "      <td>True</td>\n",
       "      <td>False</td>\n",
       "      <td>False</td>\n",
       "    </tr>\n",
       "    <tr>\n",
       "      <th>118840</th>\n",
       "      <td>636cdd02667dc8d76d9296bf20a6890a</td>\n",
       "      <td>c162256b133c76f79181ce61d66545db</td>\n",
       "      <td>shipped</td>\n",
       "      <td>2018-02-17 14:31:22</td>\n",
       "      <td>2018-02-20 07:11:31</td>\n",
       "      <td>2018-02-20 19:18:58</td>\n",
       "      <td>NaT</td>\n",
       "      <td>2018-03-14 00:00:00</td>\n",
       "      <td>39552b92919b5aacffcd326b13af0397</td>\n",
       "      <td>12042</td>\n",
       "      <td>...</td>\n",
       "      <td>234.419691</td>\n",
       "      <td>False</td>\n",
       "      <td>False</td>\n",
       "      <td>True</td>\n",
       "      <td>False</td>\n",
       "      <td>NaT</td>\n",
       "      <td>False</td>\n",
       "      <td>True</td>\n",
       "      <td>False</td>\n",
       "      <td>False</td>\n",
       "    </tr>\n",
       "    <tr>\n",
       "      <th>119003</th>\n",
       "      <td>e9e64a17afa9653aacf2616d94c005b8</td>\n",
       "      <td>b4cd0522e632e481f8eaf766a2646e86</td>\n",
       "      <td>processing</td>\n",
       "      <td>2018-01-05 23:07:24</td>\n",
       "      <td>2018-01-09 07:18:05</td>\n",
       "      <td>NaN</td>\n",
       "      <td>NaT</td>\n",
       "      <td>2018-02-06 00:00:00</td>\n",
       "      <td>965191786b70912f793e4a777fd623cd</td>\n",
       "      <td>13050</td>\n",
       "      <td>...</td>\n",
       "      <td>378.455832</td>\n",
       "      <td>False</td>\n",
       "      <td>False</td>\n",
       "      <td>True</td>\n",
       "      <td>False</td>\n",
       "      <td>NaT</td>\n",
       "      <td>False</td>\n",
       "      <td>True</td>\n",
       "      <td>False</td>\n",
       "      <td>False</td>\n",
       "    </tr>\n",
       "  </tbody>\n",
       "</table>\n",
       "<p>2018 rows × 49 columns</p>\n",
       "</div>"
      ],
      "text/plain": [
       "                                order_id                       customer_id  \\\n",
       "8       136cce7faa42fdb2cefd53fdc79a6098  ed0271e0b7da060a393796590e7b737a   \n",
       "51      ee64d42b8cf066f35eac1cf57de1aa85  caded193e8e47b8362864762a83db3c5   \n",
       "125     0760a852e4e9d89eb77bf631eaaf1c84  d2a79636084590b7465af8ab374a8cf5   \n",
       "155     15bed8e2fec7fdbadb186b57c46c92f2  f3f0e613e0bdb9c7cee75504f0f90679   \n",
       "192     6942b8da583c2f9957e990d028607019  52006a9383bf149a4fb24226b173106f   \n",
       "...                                  ...                               ...   \n",
       "118754  274a7f7e4f1c17b7434a830e9b8759b1  670af30ca5b8c20878fecdafa5ee01b9   \n",
       "118755  274a7f7e4f1c17b7434a830e9b8759b1  670af30ca5b8c20878fecdafa5ee01b9   \n",
       "118787  aea0db338150b526dde24f6fd953a5ed  379a02efdc6a56bd27f99b95fc2f6c06   \n",
       "118840  636cdd02667dc8d76d9296bf20a6890a  c162256b133c76f79181ce61d66545db   \n",
       "119003  e9e64a17afa9653aacf2616d94c005b8  b4cd0522e632e481f8eaf766a2646e86   \n",
       "\n",
       "       order_status order_purchase_timestamp    order_approved_at  \\\n",
       "8          invoiced      2017-04-11 12:22:08  2017-04-13 13:25:17   \n",
       "51          shipped      2018-06-04 16:44:48  2018-06-05 04:31:18   \n",
       "125        invoiced      2018-08-03 17:44:42  2018-08-07 06:15:14   \n",
       "155      processing      2017-09-03 14:22:03  2017-09-03 14:30:09   \n",
       "192         shipped      2018-01-10 11:33:07  2018-01-11 02:32:30   \n",
       "...             ...                      ...                  ...   \n",
       "118754      shipped      2018-06-23 13:25:15  2018-06-23 13:40:11   \n",
       "118755      shipped      2018-06-23 13:25:15  2018-06-23 13:40:11   \n",
       "118787   processing      2017-12-26 21:56:13  2017-12-26 22:05:26   \n",
       "118840      shipped      2018-02-17 14:31:22  2018-02-20 07:11:31   \n",
       "119003   processing      2018-01-05 23:07:24  2018-01-09 07:18:05   \n",
       "\n",
       "       order_delivered_carrier_date order_delivered_customer_date  \\\n",
       "8                               NaN                           NaT   \n",
       "51              2018-06-05 14:32:00                           NaT   \n",
       "125                             NaN                           NaT   \n",
       "155                             NaN                           NaT   \n",
       "192             2018-01-11 19:39:23                           NaT   \n",
       "...                             ...                           ...   \n",
       "118754          2018-07-04 13:51:00                           NaT   \n",
       "118755          2018-07-04 13:51:00                           NaT   \n",
       "118787                          NaN                           NaT   \n",
       "118840          2018-02-20 19:18:58                           NaT   \n",
       "119003                          NaN                           NaT   \n",
       "\n",
       "       order_estimated_delivery_date                customer_unique_id  \\\n",
       "8                2017-05-09 00:00:00  36edbb3fb164b1f16485364b6fb04c73   \n",
       "51               2018-06-28 00:00:00  08fb46d35bb3ab4037202c23592d1259   \n",
       "125              2018-08-21 00:00:00  c7f8d7b1fffc946d7069574f74c39f4e   \n",
       "155              2017-10-03 00:00:00  9f269af9c49244f6ba4a46985a3cfc2e   \n",
       "192              2018-02-07 00:00:00  528b011eb7fab3d59c336cc7248eed3a   \n",
       "...                              ...                               ...   \n",
       "118754           2018-07-24 00:00:00  8823bc1bf8b46bec53f2b6e7c5d0a8c0   \n",
       "118755           2018-07-24 00:00:00  8823bc1bf8b46bec53f2b6e7c5d0a8c0   \n",
       "118787           2018-01-26 00:00:00  43fb4e33ebe4ac765e99c7b57e5d6940   \n",
       "118840           2018-03-14 00:00:00  39552b92919b5aacffcd326b13af0397   \n",
       "119003           2018-02-06 00:00:00  965191786b70912f793e4a777fd623cd   \n",
       "\n",
       "        customer_zip_code_prefix  ... customer_seller_distance  \\\n",
       "8                          98900  ...               914.067122   \n",
       "51                         13215  ...               104.488492   \n",
       "125                        88140  ...               514.304875   \n",
       "155                         3436  ...               524.118861   \n",
       "192                        38600  ...               716.472758   \n",
       "...                          ...  ...                      ...   \n",
       "118754                     49030  ...              1720.026017   \n",
       "118755                     49030  ...              1720.026017   \n",
       "118787                     79200  ...              1014.834281   \n",
       "118840                     12042  ...               234.419691   \n",
       "119003                     13050  ...               378.455832   \n",
       "\n",
       "       customer_seller_distance_inferior50km  \\\n",
       "8                                      False   \n",
       "51                                     False   \n",
       "125                                    False   \n",
       "155                                    False   \n",
       "192                                    False   \n",
       "...                                      ...   \n",
       "118754                                 False   \n",
       "118755                                 False   \n",
       "118787                                 False   \n",
       "118840                                 False   \n",
       "119003                                 False   \n",
       "\n",
       "        customer_seller_distance_51km-100km  \\\n",
       "8                                     False   \n",
       "51                                    False   \n",
       "125                                   False   \n",
       "155                                   False   \n",
       "192                                   False   \n",
       "...                                     ...   \n",
       "118754                                False   \n",
       "118755                                False   \n",
       "118787                                False   \n",
       "118840                                False   \n",
       "119003                                False   \n",
       "\n",
       "       customer_seller_distance_101km-1000km  \\\n",
       "8                                       True   \n",
       "51                                      True   \n",
       "125                                     True   \n",
       "155                                     True   \n",
       "192                                     True   \n",
       "...                                      ...   \n",
       "118754                                 False   \n",
       "118755                                 False   \n",
       "118787                                 False   \n",
       "118840                                  True   \n",
       "119003                                  True   \n",
       "\n",
       "       customer_seller_distance_1001km_plus delivery_period  delivered  \\\n",
       "8                                     False             NaT      False   \n",
       "51                                    False             NaT      False   \n",
       "125                                   False             NaT      False   \n",
       "155                                   False             NaT      False   \n",
       "192                                   False             NaT      False   \n",
       "...                                     ...             ...        ...   \n",
       "118754                                 True             NaT      False   \n",
       "118755                                 True             NaT      False   \n",
       "118787                                 True             NaT      False   \n",
       "118840                                False             NaT      False   \n",
       "119003                                False             NaT      False   \n",
       "\n",
       "        in_progress  unavailable canceled  \n",
       "8              True        False    False  \n",
       "51             True        False    False  \n",
       "125            True        False    False  \n",
       "155            True        False    False  \n",
       "192            True        False    False  \n",
       "...             ...          ...      ...  \n",
       "118754         True        False    False  \n",
       "118755         True        False    False  \n",
       "118787         True        False    False  \n",
       "118840         True        False    False  \n",
       "119003         True        False    False  \n",
       "\n",
       "[2018 rows x 49 columns]"
      ]
     },
     "execution_count": 32,
     "metadata": {},
     "output_type": "execute_result"
    }
   ],
   "source": [
    "df_olist_ecommerce[df_olist_ecommerce['in_progress'] == True]"
   ]
  },
  {
   "cell_type": "markdown",
   "metadata": {},
   "source": [
    "## La volume des produits <a class=\"anchor\" id=\"product_volume\"></a>"
   ]
  },
  {
   "cell_type": "code",
   "execution_count": 33,
   "metadata": {},
   "outputs": [],
   "source": [
    "df_olist_ecommerce['product_volume_cm3'] = (df_olist_ecommerce['product_length_cm']/100) * (df_olist_ecommerce['product_height_cm']/100) * (df_olist_ecommerce['product_width_cm']/100)"
   ]
  },
  {
   "cell_type": "code",
   "execution_count": 34,
   "metadata": {},
   "outputs": [
    {
     "data": {
      "text/plain": [
       "count    118298.000000\n",
       "mean          0.015378\n",
       "std           0.023653\n",
       "min           0.000168\n",
       "25%           0.002856\n",
       "50%           0.006600\n",
       "75%           0.018502\n",
       "max           0.296208\n",
       "Name: product_volume_cm3, dtype: float64"
      ]
     },
     "execution_count": 34,
     "metadata": {},
     "output_type": "execute_result"
    }
   ],
   "source": [
    "df_olist_ecommerce['product_volume_cm3'].describe()"
   ]
  },
  {
   "cell_type": "code",
   "execution_count": 35,
   "metadata": {},
   "outputs": [],
   "source": [
    "df_olist_ecommerce.drop(['product_length_cm', 'product_height_cm', 'product_width_cm'], axis=1, inplace=True)"
   ]
  },
  {
   "cell_type": "markdown",
   "metadata": {},
   "source": [
    "## Livraison à temps <a class=\"anchor\" id=\"intime_delivery\"></a>"
   ]
  },
  {
   "cell_type": "code",
   "execution_count": 36,
   "metadata": {},
   "outputs": [],
   "source": [
    "df_olist_ecommerce['shipping_limit_date'] = pd.to_datetime(df_olist_ecommerce['shipping_limit_date'])"
   ]
  },
  {
   "cell_type": "code",
   "execution_count": 37,
   "metadata": {},
   "outputs": [],
   "source": [
    "df_olist_ecommerce['order_estimated_delivery_date'] = pd.to_datetime(df_olist_ecommerce['order_estimated_delivery_date'])"
   ]
  },
  {
   "cell_type": "code",
   "execution_count": 38,
   "metadata": {},
   "outputs": [],
   "source": [
    "df_olist_ecommerce['intime_shipping'] = df_olist_ecommerce['shipping_limit_date'] - df_olist_ecommerce['order_delivered_customer_date']"
   ]
  },
  {
   "cell_type": "code",
   "execution_count": 39,
   "metadata": {},
   "outputs": [],
   "source": [
    "df_olist_ecommerce['intime_delivery'] = df_olist_ecommerce['order_estimated_delivery_date'] - df_olist_ecommerce['order_delivered_customer_date']"
   ]
  },
  {
   "cell_type": "code",
   "execution_count": 40,
   "metadata": {},
   "outputs": [
    {
     "data": {
      "text/plain": [
       "count                        115730\n",
       "mean     11 days 08:27:06.043938490\n",
       "std      10 days 03:59:30.897174294\n",
       "min             -189 days +00:35:53\n",
       "25%                 6 days 12:11:26\n",
       "50%         12 days 01:21:19.500000\n",
       "75%                16 days 07:34:48\n",
       "max               146 days 00:23:13\n",
       "Name: intime_delivery, dtype: object"
      ]
     },
     "execution_count": 40,
     "metadata": {},
     "output_type": "execute_result"
    }
   ],
   "source": [
    "df_olist_ecommerce['intime_delivery'].describe()"
   ]
  },
  {
   "cell_type": "code",
   "execution_count": 41,
   "metadata": {},
   "outputs": [],
   "source": [
    "df_olist_ecommerce.drop(['intime_shipping'], axis=1, inplace=True)"
   ]
  },
  {
   "cell_type": "code",
   "execution_count": 42,
   "metadata": {},
   "outputs": [
    {
     "name": "stdout",
     "output_type": "stream",
     "text": [
      "<class 'pandas.core.frame.DataFrame'>\n",
      "RangeIndex: 119151 entries, 0 to 119150\n",
      "Data columns (total 48 columns):\n",
      " #   Column                                 Non-Null Count   Dtype          \n",
      "---  ------                                 --------------   -----          \n",
      " 0   order_id                               119151 non-null  object         \n",
      " 1   customer_id                            119151 non-null  object         \n",
      " 2   order_status                           119151 non-null  object         \n",
      " 3   order_purchase_timestamp               119151 non-null  datetime64[ns] \n",
      " 4   order_approved_at                      118974 non-null  object         \n",
      " 5   order_delivered_carrier_date           117065 non-null  object         \n",
      " 6   order_delivered_customer_date          115730 non-null  datetime64[ns] \n",
      " 7   order_estimated_delivery_date          119151 non-null  datetime64[ns] \n",
      " 8   customer_unique_id                     119151 non-null  object         \n",
      " 9   customer_zip_code_prefix               119151 non-null  int64          \n",
      " 10  customer_city                          119151 non-null  object         \n",
      " 11  customer_state                         119151 non-null  object         \n",
      " 12  order_item_id                          118318 non-null  float64        \n",
      " 13  product_id                             118318 non-null  object         \n",
      " 14  seller_id                              118318 non-null  object         \n",
      " 15  shipping_limit_date                    118318 non-null  datetime64[ns] \n",
      " 16  price                                  118318 non-null  float64        \n",
      " 17  freight_value                          118318 non-null  float64        \n",
      " 18  seller_zip_code_prefix                 118318 non-null  float64        \n",
      " 19  seller_city                            118318 non-null  object         \n",
      " 20  seller_state                           118318 non-null  object         \n",
      " 21  product_name_lenght                    116609 non-null  float64        \n",
      " 22  product_description_lenght             116609 non-null  float64        \n",
      " 23  product_photos_qty                     116609 non-null  float64        \n",
      " 24  product_weight_g                       118298 non-null  float64        \n",
      " 25  product_category_name                  118318 non-null  object         \n",
      " 26  payment_sequential                     119148 non-null  float64        \n",
      " 27  payment_type                           119148 non-null  object         \n",
      " 28  payment_installments                   119148 non-null  float64        \n",
      " 29  payment_value                          119148 non-null  float64        \n",
      " 30  review_id                              119151 non-null  object         \n",
      " 31  review_score                           119151 non-null  int64          \n",
      " 32  review_creation_date                   119151 non-null  object         \n",
      " 33  review_answer_timestamp                119151 non-null  object         \n",
      " 34  contain_message                        119151 non-null  bool           \n",
      " 35  delta_date_order                       119151 non-null  timedelta64[ns]\n",
      " 36  customer_seller_distance               118318 non-null  float64        \n",
      " 37  customer_seller_distance_inferior50km  119151 non-null  bool           \n",
      " 38  customer_seller_distance_51km-100km    119151 non-null  bool           \n",
      " 39  customer_seller_distance_101km-1000km  119151 non-null  bool           \n",
      " 40  customer_seller_distance_1001km_plus   119151 non-null  bool           \n",
      " 41  delivery_period                        115730 non-null  timedelta64[ns]\n",
      " 42  delivered                              119151 non-null  bool           \n",
      " 43  in_progress                            119151 non-null  bool           \n",
      " 44  unavailable                            119151 non-null  bool           \n",
      " 45  canceled                               119151 non-null  bool           \n",
      " 46  product_volume_cm3                     118298 non-null  float64        \n",
      " 47  intime_delivery                        115730 non-null  timedelta64[ns]\n",
      "dtypes: bool(9), datetime64[ns](4), float64(13), int64(2), object(17), timedelta64[ns](3)\n",
      "memory usage: 36.5+ MB\n"
     ]
    }
   ],
   "source": [
    "df_olist_ecommerce.info()"
   ]
  },
  {
   "cell_type": "code",
   "execution_count": 43,
   "metadata": {},
   "outputs": [
    {
     "data": {
      "text/html": [
       "<div>\n",
       "<style scoped>\n",
       "    .dataframe tbody tr th:only-of-type {\n",
       "        vertical-align: middle;\n",
       "    }\n",
       "\n",
       "    .dataframe tbody tr th {\n",
       "        vertical-align: top;\n",
       "    }\n",
       "\n",
       "    .dataframe thead th {\n",
       "        text-align: right;\n",
       "    }\n",
       "</style>\n",
       "<table border=\"1\" class=\"dataframe\">\n",
       "  <thead>\n",
       "    <tr style=\"text-align: right;\">\n",
       "      <th></th>\n",
       "      <th>order_id</th>\n",
       "      <th>customer_id</th>\n",
       "      <th>order_status</th>\n",
       "      <th>order_purchase_timestamp</th>\n",
       "      <th>order_approved_at</th>\n",
       "      <th>order_delivered_carrier_date</th>\n",
       "      <th>order_delivered_customer_date</th>\n",
       "      <th>order_estimated_delivery_date</th>\n",
       "      <th>customer_unique_id</th>\n",
       "      <th>customer_zip_code_prefix</th>\n",
       "      <th>...</th>\n",
       "      <th>customer_seller_distance_51km-100km</th>\n",
       "      <th>customer_seller_distance_101km-1000km</th>\n",
       "      <th>customer_seller_distance_1001km_plus</th>\n",
       "      <th>delivery_period</th>\n",
       "      <th>delivered</th>\n",
       "      <th>in_progress</th>\n",
       "      <th>unavailable</th>\n",
       "      <th>canceled</th>\n",
       "      <th>product_volume_cm3</th>\n",
       "      <th>intime_delivery</th>\n",
       "    </tr>\n",
       "  </thead>\n",
       "  <tbody>\n",
       "    <tr>\n",
       "      <th>63200</th>\n",
       "      <td>e22acc9c116caa3f2b7121bbb380d08e</td>\n",
       "      <td>fadbb3709178fc513abc1b2670aa1ad2</td>\n",
       "      <td>delivered</td>\n",
       "      <td>2018-05-10 10:56:27</td>\n",
       "      <td>2018-05-10 11:11:18</td>\n",
       "      <td>2018-05-12 08:18:00</td>\n",
       "      <td>2018-05-16 20:48:37</td>\n",
       "      <td>2018-05-21</td>\n",
       "      <td>0000366f3b9a7992bf8c76cfdf3221e2</td>\n",
       "      <td>7787</td>\n",
       "      <td>...</td>\n",
       "      <td>False</td>\n",
       "      <td>True</td>\n",
       "      <td>False</td>\n",
       "      <td>6 days 09:52:10</td>\n",
       "      <td>True</td>\n",
       "      <td>False</td>\n",
       "      <td>False</td>\n",
       "      <td>False</td>\n",
       "      <td>0.007616</td>\n",
       "      <td>4 days 03:11:23</td>\n",
       "    </tr>\n",
       "  </tbody>\n",
       "</table>\n",
       "<p>1 rows × 48 columns</p>\n",
       "</div>"
      ],
      "text/plain": [
       "                               order_id                       customer_id  \\\n",
       "63200  e22acc9c116caa3f2b7121bbb380d08e  fadbb3709178fc513abc1b2670aa1ad2   \n",
       "\n",
       "      order_status order_purchase_timestamp    order_approved_at  \\\n",
       "63200    delivered      2018-05-10 10:56:27  2018-05-10 11:11:18   \n",
       "\n",
       "      order_delivered_carrier_date order_delivered_customer_date  \\\n",
       "63200          2018-05-12 08:18:00           2018-05-16 20:48:37   \n",
       "\n",
       "      order_estimated_delivery_date                customer_unique_id  \\\n",
       "63200                    2018-05-21  0000366f3b9a7992bf8c76cfdf3221e2   \n",
       "\n",
       "       customer_zip_code_prefix  ... customer_seller_distance_51km-100km  \\\n",
       "63200                      7787  ...                               False   \n",
       "\n",
       "      customer_seller_distance_101km-1000km  \\\n",
       "63200                                  True   \n",
       "\n",
       "       customer_seller_distance_1001km_plus delivery_period delivered  \\\n",
       "63200                                 False 6 days 09:52:10      True   \n",
       "\n",
       "      in_progress  unavailable  canceled  product_volume_cm3 intime_delivery  \n",
       "63200       False        False     False            0.007616 4 days 03:11:23  \n",
       "\n",
       "[1 rows x 48 columns]"
      ]
     },
     "execution_count": 43,
     "metadata": {},
     "output_type": "execute_result"
    }
   ],
   "source": [
    "# 0000366f3b9a7992bf8c76cfdf3221e2\n",
    "df_olist_ecommerce[df_olist_ecommerce['customer_unique_id'] == '0000366f3b9a7992bf8c76cfdf3221e2']"
   ]
  },
  {
   "cell_type": "code",
   "execution_count": 44,
   "metadata": {},
   "outputs": [
    {
     "data": {
      "text/plain": [
       "count    119148.000000\n",
       "mean          2.941426\n",
       "std           2.777992\n",
       "min           0.000000\n",
       "25%           1.000000\n",
       "50%           2.000000\n",
       "75%           4.000000\n",
       "max          24.000000\n",
       "Name: payment_installments, dtype: float64"
      ]
     },
     "execution_count": 44,
     "metadata": {},
     "output_type": "execute_result"
    }
   ],
   "source": [
    "df_olist_ecommerce['payment_installments'].describe()"
   ]
  },
  {
   "cell_type": "markdown",
   "metadata": {},
   "source": [
    "# Analyse <a class=\"anchor\" id=\"analisys\"></a>"
   ]
  },
  {
   "cell_type": "code",
   "execution_count": 45,
   "metadata": {},
   "outputs": [],
   "source": [
    "categ = ['customer_state', 'seller_state', 'product_category_name', 'payment_type', 'review_score', 'order_status', 'delivered', 'in_progress', 'unavailable', 'canceled']"
   ]
  },
  {
   "cell_type": "code",
   "execution_count": 46,
   "metadata": {},
   "outputs": [
    {
     "data": {
      "text/plain": [
       "'customer_state'"
      ]
     },
     "metadata": {},
     "output_type": "display_data"
    },
    {
     "data": {
      "image/png": "[encoded data removed]",
      "text/plain": [
       "<Figure size 720x576 with 1 Axes>"
      ]
     },
     "metadata": {
      "needs_background": "light"
     },
     "output_type": "display_data"
    },
    {
     "data": {
      "text/plain": [
       "'seller_state'"
      ]
     },
     "metadata": {},
     "output_type": "display_data"
    },
    {
     "data": {
      "image/png": "[encoded data removed]",
      "text/plain": [
       "<Figure size 720x576 with 1 Axes>"
      ]
     },
     "metadata": {
      "needs_background": "light"
     },
     "output_type": "display_data"
    },
    {
     "data": {
      "text/plain": [
       "'product_category_name'"
      ]
     },
     "metadata": {},
     "output_type": "display_data"
    },
    {
     "data": {
      "image/png": "[encoded data removed]",
      "text/plain": [
       "<Figure size 720x576 with 1 Axes>"
      ]
     },
     "metadata": {
      "needs_background": "light"
     },
     "output_type": "display_data"
    },
    {
     "data": {
      "text/plain": [
       "'payment_type'"
      ]
     },
     "metadata": {},
     "output_type": "display_data"
    },
    {
     "data": {
      "image/png": "[encoded data removed]",
      "text/plain": [
       "<Figure size 720x576 with 1 Axes>"
      ]
     },
     "metadata": {
      "needs_background": "light"
     },
     "output_type": "display_data"
    },
    {
     "data": {
      "text/plain": [
       "'review_score'"
      ]
     },
     "metadata": {},
     "output_type": "display_data"
    },
    {
     "data": {
      "image/png": "[encoded data removed]",
      "text/plain": [
       "<Figure size 720x576 with 1 Axes>"
      ]
     },
     "metadata": {
      "needs_background": "light"
     },
     "output_type": "display_data"
    },
    {
     "data": {
      "text/plain": [
       "'order_status'"
      ]
     },
     "metadata": {},
     "output_type": "display_data"
    },
    {
     "data": {
      "image/png": "[encoded data removed]",
      "text/plain": [
       "<Figure size 720x576 with 1 Axes>"
      ]
     },
     "metadata": {
      "needs_background": "light"
     },
     "output_type": "display_data"
    },
    {
     "data": {
      "text/plain": [
       "'delivered'"
      ]
     },
     "metadata": {},
     "output_type": "display_data"
    },
    {
     "data": {
      "image/png": "[encoded data removed]",
      "text/plain": [
       "<Figure size 720x576 with 1 Axes>"
      ]
     },
     "metadata": {
      "needs_background": "light"
     },
     "output_type": "display_data"
    },
    {
     "data": {
      "text/plain": [
       "'in_progress'"
      ]
     },
     "metadata": {},
     "output_type": "display_data"
    },
    {
     "data": {
      "image/png": "[encoded data removed]",
      "text/plain": [
       "<Figure size 720x576 with 1 Axes>"
      ]
     },
     "metadata": {
      "needs_background": "light"
     },
     "output_type": "display_data"
    },
    {
     "data": {
      "text/plain": [
       "'unavailable'"
      ]
     },
     "metadata": {},
     "output_type": "display_data"
    },
    {
     "data": {
      "image/png": "[encoded data removed]",
      "text/plain": [
       "<Figure size 720x576 with 1 Axes>"
      ]
     },
     "metadata": {
      "needs_background": "light"
     },
     "output_type": "display_data"
    },
    {
     "data": {
      "text/plain": [
       "'canceled'"
      ]
     },
     "metadata": {},
     "output_type": "display_data"
    },
    {
     "data": {
      "image/png": "[encoded data removed]",
      "text/plain": [
       "<Figure size 720x576 with 1 Axes>"
      ]
     },
     "metadata": {
      "needs_background": "light"
     },
     "output_type": "display_data"
    }
   ],
   "source": [
    "for cat in categ:\n",
    "    display(cat)\n",
    "    df_olist_ecommerce[cat].value_counts(normalize=True).plot(kind='bar', figsize=(10,8))\n",
    "    plt.title(f\"Distribution des données qualitatives dans la colonne '{cat}'\", fontsize = 20)\n",
    "    plt.show()"
   ]
  },
  {
   "cell_type": "code",
   "execution_count": 47,
   "metadata": {},
   "outputs": [],
   "source": [
    "var_discretes = ['payment_sequential', 'payment_installments']"
   ]
  },
  {
   "cell_type": "markdown",
   "metadata": {},
   "source": [
    "Création du fichier Excel contenant le dataframe"
   ]
  },
  {
   "cell_type": "code",
   "execution_count": 48,
   "metadata": {},
   "outputs": [],
   "source": [
    "df_olist_ecommerce.to_excel(\"df_olist_ecommerce.xlsx\", index=False)"
   ]
  },
  {
   "cell_type": "markdown",
   "metadata": {},
   "source": [
    "la suite de l'analyse est dans le notebook POLIST_02_notebookanalyse2.ipynb"
   ]
  }
 ],
 "metadata": {
  "kernelspec": {
   "display_name": "Python 3",
   "language": "python",
   "name": "python3"
  },
  "language_info": {
   "codemirror_mode": {
    "name": "ipython",
    "version": 3
   },
   "file_extension": ".py",
   "mimetype": "text/x-python",
   "name": "python",
   "nbconvert_exporter": "python",
   "pygments_lexer": "ipython3",
   "version": "3.8.5"
  }
 },
 "nbformat": 4,
 "nbformat_minor": 4
}
